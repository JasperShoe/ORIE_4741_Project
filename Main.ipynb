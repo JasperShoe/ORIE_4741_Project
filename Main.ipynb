{
 "cells": [
  {
   "cell_type": "markdown",
   "id": "e2ca9905",
   "metadata": {},
   "source": [
    "# How can we predict the value of the S&P 500?\n",
    "Jasper Hsu, Thomas Suman, Trey Hensel\n",
    "\n",
    "## Libraries and dependencies:"
   ]
  },
  {
   "cell_type": "code",
   "execution_count": 51,
   "id": "3d4c5b30",
   "metadata": {},
   "outputs": [],
   "source": [
    "import numpy as np\n",
    "import pandas as pd\n",
    "import matplotlib.pyplot as plt \n",
    "import math\n",
    "import statsmodels.api as sm\n",
    "import seaborn as sns\n",
    "from datetime import datetime"
   ]
  },
  {
   "cell_type": "markdown",
   "id": "7483b3b0",
   "metadata": {},
   "source": [
    "## Loading the data: \n",
    "https://www.kaggle.com/datasets/gkitchen/s-and-p-500-spy"
   ]
  },
  {
   "cell_type": "code",
   "execution_count": 52,
   "id": "e2fcd73b",
   "metadata": {},
   "outputs": [],
   "source": [
    "df = pd.read_csv(\"spy.csv\")"
   ]
  },
  {
   "cell_type": "markdown",
   "id": "0713b2ef",
   "metadata": {},
   "source": [
    "First, we must decide what we are trying to predict. Our dataset supplies us with four options: open, high, low, and close. Predicting the high and low values of the stock on a given day is a seemingly good idea, but this information is hard to use because it is also dependent on time - and we aren't given any data on when the stock hits either extremity. Predicting the value of the stock when the market opens is definitely useful, but it generally doesn't reflect the overall market sentiment and may be heavily influenced by unpredictable overnight news or events. On the other hand, the closing price of a stock reflects the overall market sentiment and demand for the stock at the end of the trading day. It is also widely used as a benchmark for measuring the performance of the stock market. Thus, we will be predicting the closing price."
   ]
  },
  {
   "cell_type": "markdown",
   "id": "7cec6877",
   "metadata": {},
   "source": [
    "## Test/train split:"
   ]
  },
  {
   "cell_type": "code",
   "execution_count": 70,
   "id": "17f6a63a",
   "metadata": {},
   "outputs": [],
   "source": [
    "train_proportion = 0.8\n",
    "n = len(df)\n",
    "split = math.floor(n*train_proportion)\n",
    "\n",
    "def times_to_timestamps(time_arr):\n",
    "    # Define a function to convert a single time string to a timestamp\n",
    "    def time_to_timestamp(time_str):\n",
    "        time_obj = datetime.strptime(time_str, '%Y-%m-%d')\n",
    "        timestamp = int(time_obj.timestamp())\n",
    "        return timestamp\n",
    "    \n",
    "    # Use the vectorize function to apply the time_to_timestamp function to every element in the array\n",
    "    timestamp_arr = np.vectorize(time_to_timestamp)(time_arr)\n",
    "    \n",
    "    # Return the resulting array of timestamps\n",
    "    return timestamp_arr\n",
    "\n",
    "target = df[\"Close\"]\n",
    "data = pd.DataFrame(np.array([i for i in range(len(df[\"Date\"]))]))\n",
    "\n",
    "# the following variable records the features of examples in the training set\n",
    "train_x = data.iloc[:split]\n",
    "# the following variable records the features of examples in the test set\n",
    "test_x = data.iloc[split+1:]\n",
    "# the following variable records the labels of examples in the training set\n",
    "train_y = target[:split]\n",
    "# the following variable records the labels of examples in the test set\n",
    "test_y = target[split+1:]"
   ]
  },
  {
   "cell_type": "markdown",
   "id": "43c1a048",
   "metadata": {},
   "source": [
    "Note that we converted string data from the \"Date\" column formatted as \"YYYY-MM-DD\" to integers."
   ]
  },
  {
   "cell_type": "markdown",
   "id": "345ea7a1",
   "metadata": {},
   "source": [
    "## Attempt #1: Linear Regression Model"
   ]
  },
  {
   "cell_type": "code",
   "execution_count": 71,
   "id": "5a355ef5",
   "metadata": {},
   "outputs": [
    {
     "name": "stdout",
     "output_type": "stream",
     "text": [
      "Train MSE\t 421.3492148247954\n",
      "Test MSE\t 25514.92334353717\n"
     ]
    },
    {
     "data": {
      "image/png": "[encoded data removed]",
      "text/plain": [
       "<Figure size 432x288 with 1 Axes>"
      ]
     },
     "metadata": {
      "needs_background": "light"
     },
     "output_type": "display_data"
    }
   ],
   "source": [
    "# This function just computes the mean squared error\n",
    "def MSE(y, pred):\n",
    "    return np.mean(np.square(np.subtract(y, pred)))\n",
    "\n",
    "# This function plots the main diagonal;for a \"predicted vs true\" plot with perfect predictions, all data lies on this line\n",
    "def plotDiagonal(xmin, xmax):\n",
    "    xsamples = np.arange(xmin,xmax,step=0.01)\n",
    "    plt.plot(xsamples,xsamples,c='black')\n",
    "\n",
    "# This helper function plots x vs y and labels the axes\n",
    "def plotdata(x=None,y=None,xname=None,yname=None,margin=0.05,plotDiag=True,zeromin=False):\n",
    "    plt.scatter(x,y,label='data')\n",
    "    plt.xlabel(xname)\n",
    "    plt.ylabel(yname)\n",
    "    range_x = max(x) - min(x)\n",
    "    range_y = max(y) - min(y)\n",
    "    if plotDiag:\n",
    "        plotDiagonal(min(x)-margin*range_x,max(x)+margin*range_x)\n",
    "    if zeromin:\n",
    "        plt.xlim(0.0,max(x)+margin*range_x)\n",
    "        plt.ylim(0.0,max(y)+margin*range_y)\n",
    "    else:\n",
    "        plt.xlim(min(x)-margin*range_x,max(x)+margin*range_x)\n",
    "        plt.ylim(min(y)-margin*range_y,max(y)+margin*range_y)\n",
    "    plt.show()\n",
    "\n",
    "# This function plots the predicted labels vs the actual labels (We only plot the first 1000 points to avoid slow plots)\n",
    "def plot_pred_true(test_pred=None, test_y=None, max_points = 1000):\n",
    "    plotdata(test_pred[1:max_points], test_y[1:max_points],'Predicted', 'True', zeromin=True)\n",
    "\n",
    "def run_OLS(train_y, test_y, train_vals, test_vals):\n",
    "    ols_model = sm.regression.linear_model.OLS(train_y, train_vals)\n",
    "    while True: # Bypasses SVD convergence assertion error\n",
    "        try:\n",
    "            results = ols_model.fit()\n",
    "            break\n",
    "        except:\n",
    "            None\n",
    "           \n",
    "    w = np.array(results.params).reshape([len(results.params),1])\n",
    "\n",
    "    train_pred = np.array(np.matmul(train_vals,w))\n",
    "    test_pred = np.array(np.matmul(test_vals,w))\n",
    "    \n",
    "    train_MSE = MSE(train_y, train_pred.flatten())\n",
    "    test_MSE = MSE(test_y, test_pred.flatten())\n",
    "    \n",
    "    return train_MSE, test_MSE, test_pred\n",
    "\n",
    "train_vals_offset = np.ones(train_x.shape[0]).reshape(-1, 1)\n",
    "train_vals = np.concatenate([train_x, train_vals_offset], axis=1)\n",
    "\n",
    "test_vals_offset = np.ones(test_x.shape[0]).reshape(-1, 1)\n",
    "test_vals = np.concatenate([test_x, test_vals_offset], axis=1)\n",
    "\n",
    "train_MSE, test_MSE, test_pred = run_OLS(train_y, test_y, train_vals, test_vals)\n",
    "\n",
    "print(\"Train MSE\\t\", str(train_MSE))\n",
    "print(\"Test MSE\\t\", str(test_MSE))\n",
    "\n",
    "plot_pred_true(test_pred.flatten(), test_y)"
   ]
  },
  {
   "cell_type": "code",
   "execution_count": 60,
   "id": "26e51815",
   "metadata": {},
   "outputs": [
    {
     "name": "stdout",
     "output_type": "stream",
     "text": [
      "<class 'str'>\n",
      "[90.63612301 90.63612301 90.63612301 ... 90.63612301 90.63612301\n",
      " 90.63612301]\n"
     ]
    },
    {
     "data": {
      "image/png": "[encoded data removed]",
      "text/plain": [
       "<Figure size 432x288 with 1 Axes>"
      ]
     },
     "metadata": {
      "needs_background": "light"
     },
     "output_type": "display_data"
    }
   ],
   "source": [
    "d = pd.read_csv(\"spy.csv\")\n",
    "\n",
    "dt = d[\"Date\"]\n",
    "print(type(dt[0]))\n",
    "\n",
    "d = d[\"Close\"]\n",
    "d = d.iloc[split+1:]\n",
    "\n",
    "plt.scatter([i for i in range(len(d))], d)\n",
    "plt.scatter([i for i in range(len(test_pred.flatten()))], test_pred.flatten(), color=\"r\")\n",
    "\n",
    "print(test_pred.flatten())"
   ]
  },
  {
   "cell_type": "code",
   "execution_count": 63,
   "id": "72d933ad",
   "metadata": {},
   "outputs": [
    {
     "name": "stdout",
     "output_type": "stream",
     "text": [
      "Empty DataFrame\n",
      "Columns: []\n",
      "Index: [0, 1, 2, 3, 4, 5, 6, 7, 8, 9, 10, 11, 12, 13, 14, 15, 16, 17, 18, 19, 20, 21, 22, 23, 24, 25, 26, 27, 28, 29, 30, 31, 32, 33, 34, 35, 36, 37, 38, 39, 40, 41, 42, 43, 44, 45, 46, 47, 48, 49, 50, 51, 52, 53, 54, 55, 56, 57, 58, 59, 60, 61, 62, 63, 64, 65, 66, 67, 68, 69, 70, 71, 72, 73, 74, 75, 76, 77, 78, 79, 80, 81, 82, 83, 84, 85, 86, 87, 88, 89, 90, 91, 92, 93, 94, 95, 96, 97, 98, 99, ...]\n",
      "\n",
      "[7598 rows x 0 columns]\n",
      "0        25.122355\n",
      "1        25.301018\n",
      "2        25.354630\n",
      "3        25.622644\n",
      "4        25.729862\n",
      "           ...    \n",
      "7593    396.489990\n",
      "7594    395.600006\n",
      "7595    401.350006\n",
      "7596    403.700012\n",
      "7597    409.390015\n",
      "Name: Close, Length: 7598, dtype: float64\n"
     ]
    }
   ],
   "source": [
    "X = data\n",
    "y = target\n",
    "print(X)\n",
    "print(y)"
   ]
  },
  {
   "cell_type": "code",
   "execution_count": null,
   "id": "6659bad4",
   "metadata": {},
   "outputs": [],
   "source": []
  }
 ],
 "metadata": {
  "kernelspec": {
   "display_name": "Python 3 (ipykernel)",
   "language": "python",
   "name": "python3"
  },
  "language_info": {
   "codemirror_mode": {
    "name": "ipython",
    "version": 3
   },
   "file_extension": ".py",
   "mimetype": "text/x-python",
   "name": "python",
   "nbconvert_exporter": "python",
   "pygments_lexer": "ipython3",
   "version": "3.9.7"
  }
 },
 "nbformat": 4,
 "nbformat_minor": 5
}
