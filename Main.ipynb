{
 "cells": [
  {
   "cell_type": "markdown",
   "id": "739f33a0",
   "metadata": {},
   "source": [
    "# How can we predict the value of the S&P 500?\n",
    "Jasper Hsu, Thomas Suman, Trey Hensel\n",
    "\n",
    "## Libraries and dependencies:"
   ]
  },
  {
   "cell_type": "code",
   "execution_count": 36,
   "id": "3d4c5b30",
   "metadata": {},
   "outputs": [],
   "source": [
    "import numpy as np\n",
    "import pandas as pd\n",
    "import matplotlib.pyplot as plt \n",
    "import math\n",
    "import statsmodels.api as sm\n",
    "import seaborn as sns"
   ]
  },
  {
   "cell_type": "markdown",
   "id": "3893a0ab",
   "metadata": {},
   "source": [
    "## Loading the data: \n",
    "https://www.kaggle.com/datasets/gkitchen/s-and-p-500-spy"
   ]
  },
  {
   "cell_type": "code",
   "execution_count": 5,
   "id": "bd1f12bd",
   "metadata": {},
   "outputs": [],
   "source": [
    "df = pd.read_csv(\"spy.csv\")"
   ]
  },
  {
   "cell_type": "markdown",
   "id": "e01fa0dc",
   "metadata": {},
   "source": [
    "First, we must decide what we are trying to predict. Our dataset supplies us with four options: open, high, low, and close. Predicting the high and low values of the stock on a given day is a seemingly good idea, but this information is hard to use because it is also dependent on time - and we aren't given any data on when the stock hits either extremity. Predicting the value of the stock when the market opens is definitely useful, but it generally doesn't reflect the overall market sentiment and may be heavily influenced by unpredictable overnight news or events. On the other hand, the closing price of a stock reflects the overall market sentiment and demand for the stock at the end of the trading day. It is also widely used as a benchmark for measuring the performance of the stock market. Thus, we will be predicting the closing price."
   ]
  },
  {
   "cell_type": "markdown",
   "id": "110a4fdf",
   "metadata": {},
   "source": [
    "## Test/train split:"
   ]
  },
  {
   "cell_type": "code",
   "execution_count": 20,
   "id": "2efe9401",
   "metadata": {},
   "outputs": [],
   "source": [
    "df = df.sample(frac = 1) # we shuffle the data so that our train/test split will be truly random\n",
    "\n",
    "train_proportion = 0.8\n",
    "n = len(df)\n",
    "split = math.floor(n*train_proportion)\n",
    "\n",
    "target = df[\"Close\"]\n",
    "features = [\"Open\", \"High\", \"Low\", \"Volume\", \"Day\", \"Weekday\", \"Week\", \"Month\", \"Year\"]\n",
    "data = df.loc[:, df.columns.isin(features)]\n",
    "\n",
    "# the following variable records the features of examples in the training set\n",
    "train_x = data.iloc[:split]\n",
    "# the following variable records the features of examples in the test set\n",
    "test_x = data.iloc[split+1:]\n",
    "# the following variable records the labels of examples in the training set\n",
    "train_y = target[:split]\n",
    "# the following variable records the labels of examples in the test set\n",
    "test_y = target[split+1:]"
   ]
  },
  {
   "cell_type": "markdown",
   "id": "be708f63",
   "metadata": {},
   "source": [
    "Note that we effectively removed the \"Date\" column from our data as the same information is stored separately in the \"Day\", \"Month\", and \"Year\" columns."
   ]
  },
  {
   "cell_type": "markdown",
   "id": "42ff2792",
   "metadata": {},
   "source": [
    "## Attempt #1: Linear Regression Model"
   ]
  },
  {
   "cell_type": "code",
   "execution_count": 40,
   "id": "40e2b787",
   "metadata": {},
   "outputs": [
    {
     "name": "stdout",
     "output_type": "stream",
     "text": [
      "Train MSE\t 0.5438316106075932\n",
      "Test MSE\t 0.6864684458462622\n"
     ]
    },
    {
     "data": {
      "image/png": "[encoded data removed]",
      "text/plain": [
       "<Figure size 432x288 with 1 Axes>"
      ]
     },
     "metadata": {
      "needs_background": "light"
     },
     "output_type": "display_data"
    }
   ],
   "source": [
    "# This function just computes the mean squared error\n",
    "def MSE(y, pred):\n",
    "    return np.mean(np.square(np.subtract(y, pred)))\n",
    "\n",
    "# This function plots the main diagonal;for a \"predicted vs true\" plot with perfect predictions, all data lies on this line\n",
    "def plotDiagonal(xmin, xmax):\n",
    "    xsamples = np.arange(xmin,xmax,step=0.01)\n",
    "    plt.plot(xsamples,xsamples,c='black')\n",
    "\n",
    "# This helper function plots x vs y and labels the axes\n",
    "def plotdata(x=None,y=None,xname=None,yname=None,margin=0.05,plotDiag=True,zeromin=False):\n",
    "    plt.scatter(x,y,label='data')\n",
    "    plt.xlabel(xname)\n",
    "    plt.ylabel(yname)\n",
    "    range_x = max(x) - min(x)\n",
    "    range_y = max(y) - min(y)\n",
    "    if plotDiag:\n",
    "        plotDiagonal(min(x)-margin*range_x,max(x)+margin*range_x)\n",
    "    if zeromin:\n",
    "        plt.xlim(0.0,max(x)+margin*range_x)\n",
    "        plt.ylim(0.0,max(y)+margin*range_y)\n",
    "    else:\n",
    "        plt.xlim(min(x)-margin*range_x,max(x)+margin*range_x)\n",
    "        plt.ylim(min(y)-margin*range_y,max(y)+margin*range_y)\n",
    "    plt.show()\n",
    "\n",
    "# This function plots the predicted labels vs the actual labels (We only plot the first 1000 points to avoid slow plots)\n",
    "def plot_pred_true(test_pred=None, test_y=None, max_points = 1000):\n",
    "    plotdata(test_pred[1:max_points], test_y[1:max_points],'Predicted', 'True', zeromin=True)\n",
    "\n",
    "def run_OLS(train_y, test_y, train_vals, test_vals):\n",
    "    ols_model = sm.regression.linear_model.OLS(train_y, train_vals)\n",
    "    while True: # Bypasses SVD convergence assertion error\n",
    "        try:\n",
    "            results = ols_model.fit()\n",
    "            break\n",
    "        except:\n",
    "            None\n",
    "            \n",
    "    w = np.array(results.params).reshape([len(results.params),1])\n",
    "\n",
    "    train_pred = np.array(np.matmul(train_vals,w))\n",
    "    test_pred = np.array(np.matmul(test_vals,w))\n",
    "    \n",
    "    train_MSE = MSE(train_y, train_pred.flatten())\n",
    "    test_MSE = MSE(test_y, test_pred.flatten())\n",
    "    \n",
    "    return train_MSE, test_MSE, test_pred\n",
    "\n",
    "train_MSE, test_MSE, test_pred = run_OLS(train_y, test_y, train_x, test_x)\n",
    "\n",
    "print(\"Train MSE\\t\", str(train_MSE))\n",
    "print(\"Test MSE\\t\", str(test_MSE))\n",
    "\n",
    "plot_pred_true(test_pred.flatten(), test_y)"
   ]
  },
  {
   "cell_type": "code",
   "execution_count": null,
   "id": "26a27a8f",
   "metadata": {},
   "outputs": [],
   "source": []
  }
 ],
 "metadata": {
  "kernelspec": {
   "display_name": "Python 3 (ipykernel)",
   "language": "python",
   "name": "python3"
  },
  "language_info": {
   "codemirror_mode": {
    "name": "ipython",
    "version": 3
   },
   "file_extension": ".py",
   "mimetype": "text/x-python",
   "name": "python",
   "nbconvert_exporter": "python",
   "pygments_lexer": "ipython3",
   "version": "3.9.7"
  }
 },
 "nbformat": 4,
 "nbformat_minor": 5
}
