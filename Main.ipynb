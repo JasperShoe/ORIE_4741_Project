{
 "cells": [
  {
   "cell_type": "markdown",
   "id": "704703a1",
   "metadata": {},
   "source": [
    "# How can we predict the value of the S&P 500?\n",
    "Jasper Hsu, Thomas Suman, Trey Hensel\n",
    "\n",
    "## Libraries and dependencies:"
   ]
  },
  {
   "cell_type": "code",
   "execution_count": 4,
   "id": "3d4c5b30",
   "metadata": {},
   "outputs": [],
   "source": [
    "import numpy as np\n",
    "import pandas as pd\n",
    "import matplotlib.pyplot as plt \n",
    "import math"
   ]
  },
  {
   "cell_type": "markdown",
   "id": "290ea5c7",
   "metadata": {},
   "source": [
    "## Loading the data: \n",
    "https://www.kaggle.com/datasets/gkitchen/s-and-p-500-spy"
   ]
  },
  {
   "cell_type": "code",
   "execution_count": 5,
   "id": "861cfead",
   "metadata": {},
   "outputs": [],
   "source": [
    "df = pd.read_csv(\"spy.csv\")"
   ]
  },
  {
   "cell_type": "markdown",
   "id": "73c31e92",
   "metadata": {},
   "source": [
    "First, we must decide what we are trying to predict. Our dataset supplies us with four options: open, high, low, and close. Predicting the high and low values of the stock on a given day is a seemingly good idea, but this information is hard to use because it is also dependent on time - and we aren't given any data on when the stock hits either extremity. Predicting the value of the stock when the market opens is definitely useful, but it generally doesn't reflect the overall market sentiment and may be heavily influenced by unpredictable overnight news or events. On the other hand, the closing price of a stock reflects the overall market sentiment and demand for the stock at the end of the trading day. It is also widely used as a benchmark for measuring the performance of the stock market. Thus, we will be predicting the closing price."
   ]
  },
  {
   "cell_type": "markdown",
   "id": "e1dbd901",
   "metadata": {},
   "source": [
    "## Test/train split:"
   ]
  },
  {
   "cell_type": "code",
   "execution_count": 20,
   "id": "dc921e69",
   "metadata": {},
   "outputs": [],
   "source": [
    "df = df.sample(frac = 1) # we shuffle the data so that our train/test split will be truly random\n",
    "\n",
    "train_proportion = 0.8\n",
    "n = len(df)\n",
    "split = math.floor(n*train_proportion)\n",
    "\n",
    "target = df[\"Close\"]\n",
    "features = [\"Open\", \"High\", \"Low\", \"Volume\", \"Day\", \"Weekday\", \"Week\", \"Month\", \"Year\"]\n",
    "data = df.loc[:, df.columns.isin(features)]\n",
    "\n",
    "# the following variable records the features of examples in the training set\n",
    "train_x = data.iloc[:split]\n",
    "# the following variable records the features of examples in the test set\n",
    "test_x = data.iloc[split+1:]\n",
    "# the following variable records the labels of examples in the training set\n",
    "train_y = target[:split]\n",
    "# the following variable records the labels of examples in the test set\n",
    "test_y = target[split+1:]"
   ]
  },
  {
   "cell_type": "markdown",
   "id": "b8741dcf",
   "metadata": {},
   "source": [
    "Note that we effectively removed the \"Date\" column from our data as the same information is stored separately in the \"Day\", \"Month\", and \"Year\" columns."
   ]
  },
  {
   "cell_type": "code",
   "execution_count": null,
   "id": "8431a001",
   "metadata": {},
   "outputs": [],
   "source": []
  }
 ],
 "metadata": {
  "kernelspec": {
   "display_name": "Python 3 (ipykernel)",
   "language": "python",
   "name": "python3"
  },
  "language_info": {
   "codemirror_mode": {
    "name": "ipython",
    "version": 3
   },
   "file_extension": ".py",
   "mimetype": "text/x-python",
   "name": "python",
   "nbconvert_exporter": "python",
   "pygments_lexer": "ipython3",
   "version": "3.9.7"
  }
 },
 "nbformat": 4,
 "nbformat_minor": 5
}
