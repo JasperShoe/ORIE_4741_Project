{
 "cells": [
  {
   "cell_type": "markdown",
   "id": "e2ca9905",
   "metadata": {},
   "source": [
    "# How can we predict the value of the S&P 500?\n",
    "Jasper Hsu, Thomas Suman, Trey Hensel\n",
    "\n",
    "## Libraries and dependencies:"
   ]
  },
  {
   "cell_type": "code",
   "execution_count": 1,
   "id": "3d4c5b30",
   "metadata": {},
   "outputs": [],
   "source": [
    "import numpy as np\n",
    "import pandas as pd\n",
    "import matplotlib.pyplot as plt \n",
    "import math\n",
    "import statsmodels.api as sm\n",
    "import seaborn as sns\n",
    "from datetime import datetime"
   ]
  },
  {
   "cell_type": "markdown",
   "id": "7483b3b0",
   "metadata": {},
   "source": [
    "## Loading the data: \n",
    "https://www.kaggle.com/datasets/gkitchen/s-and-p-500-spy"
   ]
  },
  {
   "cell_type": "code",
   "execution_count": 43,
   "id": "e2fcd73b",
   "metadata": {},
   "outputs": [],
   "source": [
    "df = pd.read_csv(\"spy.csv\")"
   ]
  },
  {
   "cell_type": "markdown",
   "id": "0713b2ef",
   "metadata": {},
   "source": [
    "First, we must decide what we are trying to predict. Our dataset supplies us with four options: open, high, low, and close. Predicting the high and low values of the stock on a given day is a seemingly good idea, but this information is hard to use because it is also dependent on time - and we aren't given any data on when the stock hits either extremity. Predicting the value of the stock when the market opens is definitely useful, but it generally doesn't reflect the overall market sentiment and may be heavily influenced by unpredictable overnight news or events. On the other hand, the closing price of a stock reflects the overall market sentiment and demand for the stock at the end of the trading day. It is also widely used as a benchmark for measuring the performance of the stock market. Thus, we will be predicting the closing price."
   ]
  },
  {
   "cell_type": "markdown",
   "id": "7cec6877",
   "metadata": {},
   "source": [
    "## Test/train split:"
   ]
  },
  {
   "cell_type": "code",
   "execution_count": 46,
   "id": "17f6a63a",
   "metadata": {},
   "outputs": [],
   "source": [
    "df = df.sample(frac = 1)\n",
    "train_proportion = 0.8\n",
    "n = len(df)\n",
    "split = math.floor(n*train_proportion)\n",
    "\n",
    "def times_to_timestamps(time_arr):\n",
    "    # Define a function to convert a single time string to a timestamp\n",
    "    def time_to_timestamp(time_str):\n",
    "        time_obj = datetime.strptime(time_str, '%Y-%m-%d')\n",
    "        timestamp = int(time_obj.timestamp())\n",
    "        return timestamp\n",
    "    \n",
    "    # Use the vectorize function to apply the time_to_timestamp function to every element in the array\n",
    "    timestamp_arr = np.vectorize(time_to_timestamp)(time_arr)\n",
    "    \n",
    "    # Return the resulting array of timestamps\n",
    "    return timestamp_arr\n",
    "\n",
    "target = df[\"Close\"]\n",
    "data = pd.DataFrame(np.array(times_to_timestamps(df[\"Date\"])))\n",
    "\n",
    "# the following variable records the features of examples in the training set\n",
    "train_x = data.iloc[:split]\n",
    "# the following variable records the features of examples in the test set\n",
    "test_x = data.iloc[split+1:]\n",
    "# the following variable records the labels of examples in the training set\n",
    "train_y = target[:split]\n",
    "# the following variable records the labels of examples in the test set\n",
    "test_y = target[split+1:]"
   ]
  },
  {
   "cell_type": "markdown",
   "id": "43c1a048",
   "metadata": {},
   "source": [
    "Note that we converted string data from the \"Date\" column formatted as \"YYYY-MM-DD\" to integers, and we are trying to use the \"Date\" feature to predict the our target \"Close\" value."
   ]
  },
  {
   "cell_type": "markdown",
   "id": "345ea7a1",
   "metadata": {},
   "source": [
    "## Attempt #1: Linear Regression Model"
   ]
  },
  {
   "cell_type": "code",
   "execution_count": 64,
   "id": "5a355ef5",
   "metadata": {},
   "outputs": [
    {
     "name": "stdout",
     "output_type": "stream",
     "text": [
      "Train MSE\t 2762.033280607011\n",
      "Test MSE\t 2878.4189800627382\n"
     ]
    },
    {
     "data": {
      "image/png": "[encoded data removed]",
      "text/plain": [
       "<Figure size 432x288 with 1 Axes>"
      ]
     },
     "metadata": {
      "needs_background": "light"
     },
     "output_type": "display_data"
    },
    {
     "data": {
      "text/html": [
       "<table class=\"simpletable\">\n",
       "<caption>OLS Regression Results</caption>\n",
       "<tr>\n",
       "  <th>Dep. Variable:</th>          <td>Close</td>      <th>  R-squared:         </th> <td>   0.747</td> \n",
       "</tr>\n",
       "<tr>\n",
       "  <th>Model:</th>                   <td>OLS</td>       <th>  Adj. R-squared:    </th> <td>   0.747</td> \n",
       "</tr>\n",
       "<tr>\n",
       "  <th>Method:</th>             <td>Least Squares</td>  <th>  F-statistic:       </th> <td>1.795e+04</td>\n",
       "</tr>\n",
       "<tr>\n",
       "  <th>Date:</th>             <td>Mon, 08 May 2023</td> <th>  Prob (F-statistic):</th>  <td>  0.00</td>  \n",
       "</tr>\n",
       "<tr>\n",
       "  <th>Time:</th>                 <td>18:19:50</td>     <th>  Log-Likelihood:    </th> <td> -32705.</td> \n",
       "</tr>\n",
       "<tr>\n",
       "  <th>No. Observations:</th>      <td>  6078</td>      <th>  AIC:               </th> <td>6.541e+04</td>\n",
       "</tr>\n",
       "<tr>\n",
       "  <th>Df Residuals:</th>          <td>  6076</td>      <th>  BIC:               </th> <td>6.543e+04</td>\n",
       "</tr>\n",
       "<tr>\n",
       "  <th>Df Model:</th>              <td>     1</td>      <th>                     </th>     <td> </td>    \n",
       "</tr>\n",
       "<tr>\n",
       "  <th>Covariance Type:</th>      <td>nonrobust</td>    <th>                     </th>     <td> </td>    \n",
       "</tr>\n",
       "</table>\n",
       "<table class=\"simpletable\">\n",
       "<tr>\n",
       "    <td></td>       <th>coef</th>     <th>std err</th>      <th>t</th>      <th>P>|t|</th>  <th>[0.025</th>    <th>0.975]</th>  \n",
       "</tr>\n",
       "<tr>\n",
       "  <th>x1</th>    <td> 3.293e-07</td> <td> 2.46e-09</td> <td>  133.964</td> <td> 0.000</td> <td> 3.24e-07</td> <td> 3.34e-07</td>\n",
       "</tr>\n",
       "<tr>\n",
       "  <th>const</th> <td> -260.6465</td> <td>    3.038</td> <td>  -85.788</td> <td> 0.000</td> <td> -266.603</td> <td> -254.690</td>\n",
       "</tr>\n",
       "</table>\n",
       "<table class=\"simpletable\">\n",
       "<tr>\n",
       "  <th>Omnibus:</th>       <td>614.246</td> <th>  Durbin-Watson:     </th> <td>   1.924</td> \n",
       "</tr>\n",
       "<tr>\n",
       "  <th>Prob(Omnibus):</th> <td> 0.000</td>  <th>  Jarque-Bera (JB):  </th> <td> 850.979</td> \n",
       "</tr>\n",
       "<tr>\n",
       "  <th>Skew:</th>          <td> 0.807</td>  <th>  Prob(JB):          </th> <td>1.63e-185</td>\n",
       "</tr>\n",
       "<tr>\n",
       "  <th>Kurtosis:</th>      <td> 3.868</td>  <th>  Cond. No.          </th> <td>5.57e+09</td> \n",
       "</tr>\n",
       "</table><br/><br/>Notes:<br/>[1] Standard Errors assume that the covariance matrix of the errors is correctly specified.<br/>[2] The condition number is large, 5.57e+09. This might indicate that there are<br/>strong multicollinearity or other numerical problems."
      ],
      "text/plain": [
       "<class 'statsmodels.iolib.summary.Summary'>\n",
       "\"\"\"\n",
       "                            OLS Regression Results                            \n",
       "==============================================================================\n",
       "Dep. Variable:                  Close   R-squared:                       0.747\n",
       "Model:                            OLS   Adj. R-squared:                  0.747\n",
       "Method:                 Least Squares   F-statistic:                 1.795e+04\n",
       "Date:                Mon, 08 May 2023   Prob (F-statistic):               0.00\n",
       "Time:                        18:19:50   Log-Likelihood:                -32705.\n",
       "No. Observations:                6078   AIC:                         6.541e+04\n",
       "Df Residuals:                    6076   BIC:                         6.543e+04\n",
       "Df Model:                           1                                         \n",
       "Covariance Type:            nonrobust                                         \n",
       "==============================================================================\n",
       "                 coef    std err          t      P>|t|      [0.025      0.975]\n",
       "------------------------------------------------------------------------------\n",
       "x1          3.293e-07   2.46e-09    133.964      0.000    3.24e-07    3.34e-07\n",
       "const       -260.6465      3.038    -85.788      0.000    -266.603    -254.690\n",
       "==============================================================================\n",
       "Omnibus:                      614.246   Durbin-Watson:                   1.924\n",
       "Prob(Omnibus):                  0.000   Jarque-Bera (JB):              850.979\n",
       "Skew:                           0.807   Prob(JB):                    1.63e-185\n",
       "Kurtosis:                       3.868   Cond. No.                     5.57e+09\n",
       "==============================================================================\n",
       "\n",
       "Notes:\n",
       "[1] Standard Errors assume that the covariance matrix of the errors is correctly specified.\n",
       "[2] The condition number is large, 5.57e+09. This might indicate that there are\n",
       "strong multicollinearity or other numerical problems.\n",
       "\"\"\""
      ]
     },
     "execution_count": 64,
     "metadata": {},
     "output_type": "execute_result"
    }
   ],
   "source": [
    "# This function just computes the mean squared error\n",
    "def MSE(y, pred):\n",
    "    return np.mean(np.square(np.subtract(y, pred)))\n",
    "\n",
    "# This function plots the main diagonal;for a \"predicted vs true\" plot with perfect predictions, all data lies on this line\n",
    "def plotDiagonal(xmin, xmax):\n",
    "    xsamples = np.arange(xmin,xmax,step=0.01)\n",
    "    plt.plot(xsamples,xsamples,c='black')\n",
    "\n",
    "# This helper function plots x vs y and labels the axes\n",
    "def plotdata(x=None,y=None,xname=None,yname=None,margin=0.05,plotDiag=True,zeromin=False):\n",
    "    plt.scatter(x,y,label='data')\n",
    "    plt.xlabel(xname)\n",
    "    plt.ylabel(yname)\n",
    "    range_x = max(x) - min(x)\n",
    "    range_y = max(y) - min(y)\n",
    "    if plotDiag:\n",
    "        plotDiagonal(min(x)-margin*range_x,max(x)+margin*range_x)\n",
    "    if zeromin:\n",
    "        plt.xlim(0.0,max(x)+margin*range_x)\n",
    "        plt.ylim(0.0,max(y)+margin*range_y)\n",
    "    else:\n",
    "        plt.xlim(min(x)-margin*range_x,max(x)+margin*range_x)\n",
    "        plt.ylim(min(y)-margin*range_y,max(y)+margin*range_y)\n",
    "    plt.show()\n",
    "\n",
    "# This function plots the predicted labels vs the actual labels (We only plot the first 1000 points to avoid slow plots)\n",
    "def plot_pred_true(test_pred=None, test_y=None, max_points = 1000):\n",
    "    plotdata(test_pred[1:max_points], test_y[1:max_points],'Predicted Close', 'True Close', zeromin=True)\n",
    "\n",
    "# This function runs OLS and bypasses any SVD (Singular Value Decomposition) convergence errors by refitting the model\n",
    "def run_OLS(train_y, test_y, train_vals, test_vals):\n",
    "    ols_model = sm.regression.linear_model.OLS(train_y, train_vals)\n",
    "    while True: # Bypasses SVD convergence assertion error\n",
    "        try:\n",
    "            results = ols_model.fit()\n",
    "            break\n",
    "        except:\n",
    "            None\n",
    "            \n",
    "    w = np.array(results.params).reshape([len(results.params),1])\n",
    "\n",
    "    train_pred = np.matmul(train_vals,w)\n",
    "    test_pred = np.matmul(test_vals,w)\n",
    "\n",
    "    train_MSE = MSE(train_y, train_pred.flatten())\n",
    "    test_MSE = MSE(test_y, test_pred.flatten())\n",
    "    \n",
    "    return train_MSE, test_MSE, test_pred, results\n",
    "\n",
    "train_vals_offset = np.ones(train_x.shape[0]).reshape(-1, 1)\n",
    "train_vals = np.concatenate([train_x, train_vals_offset], axis=1)\n",
    "\n",
    "test_vals_offset = np.ones(test_x.shape[0]).reshape(-1, 1)\n",
    "test_vals = np.concatenate([test_x, test_vals_offset], axis=1)\n",
    "\n",
    "train_MSE, test_MSE, test_pred, result = run_OLS(train_y, test_y, train_vals, test_vals)\n",
    "\n",
    "print(\"Train MSE\\t\", str(train_MSE))\n",
    "print(\"Test MSE\\t\", str(test_MSE))\n",
    "\n",
    "plot_pred_true(test_pred.flatten(), test_y)\n",
    "\n",
    "result.summary()\n"
   ]
  },
  {
   "cell_type": "code",
   "execution_count": 55,
   "id": "4608fc86",
   "metadata": {},
   "outputs": [],
   "source": [
    "df = df.sort_values('Date', ascending=True)"
   ]
  },
  {
   "cell_type": "code",
   "execution_count": 57,
   "id": "df11fe94",
   "metadata": {},
   "outputs": [
    {
     "data": {
      "image/png": "[encoded data removed]",
      "text/plain": [
       "<Figure size 432x288 with 1 Axes>"
      ]
     },
     "metadata": {
      "needs_background": "light"
     },
     "output_type": "display_data"
    }
   ],
   "source": [
    "plt.scatter([i for i in range(len(df['Close']))], df['Close'])\n",
    "plt.show()"
   ]
  }
 ],
 "metadata": {
  "kernelspec": {
   "display_name": "Python 3 (ipykernel)",
   "language": "python",
   "name": "python3"
  },
  "language_info": {
   "codemirror_mode": {
    "name": "ipython",
    "version": 3
   },
   "file_extension": ".py",
   "mimetype": "text/x-python",
   "name": "python",
   "nbconvert_exporter": "python",
   "pygments_lexer": "ipython3",
   "version": "3.9.7"
  }
 },
 "nbformat": 4,
 "nbformat_minor": 5
}
